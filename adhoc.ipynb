{
 "cells": [
  {
   "cell_type": "code",
   "execution_count": 1,
   "metadata": {},
   "outputs": [
    {
     "data": {
      "text/plain": [
       "['replicas.conf']"
      ]
     },
     "execution_count": 1,
     "metadata": {},
     "output_type": "execute_result"
    }
   ],
   "source": [
    "import configparser\n",
    "\n",
    "# Cria o parser e lê o arquivo\n",
    "config = configparser.ConfigParser()\n",
    "config.read('replicas.conf')"
   ]
  },
  {
   "cell_type": "code",
   "execution_count": 4,
   "metadata": {},
   "outputs": [
    {
     "name": "stdout",
     "output_type": "stream",
     "text": [
      "('localhost', 4001)\n",
      "[Cliente 4050] Efetuando SCAN no datastore\n",
      "[Unicast.request] Enviando para localhost:4001 a mensagem {'type': 'SCAN', 'cid': 4050}\n",
      "{'gui': (123, 0), 'x': (100, 1), 'y': (30, 0), 'z': (50, 0)}\n",
      "[Cliente 4050] Efetuando escrita na chave 'teste' com valor '1'\n",
      "[Cliente 4050] Commitando transação 882f6960-3ad8-4a03-a4f4-65a20bffb47d\n",
      "[Unicast.request] Enviando para localhost:4000 a mensagem {'type': 'COMMIT_REQ', 'cid': 4050, 'tid': '882f6960-3ad8-4a03-a4f4-65a20bffb47d', 'rs': [], 'ws': [('teste', 1)]}\n",
      "[Unicast.receive] Mensagem recebida: {'tid': '882f6960-3ad8-4a03-a4f4-65a20bffb47d', 'status': 'COMMITED'}\n",
      "[Cliente 4050] Efetuando SCAN no datastore\n",
      "[Unicast.request] Enviando para localhost:4001 a mensagem {'type': 'SCAN', 'cid': 4050}\n",
      "{'gui': (123, 0), 'x': (100, 1), 'y': (30, 0), 'z': (50, 0), 'teste': (1, 1)}\n",
      "TX1: {'tid': '882f6960-3ad8-4a03-a4f4-65a20bffb47d', 'status': 'COMMITED'}\n"
     ]
    }
   ],
   "source": [
    "from utils.transaction import Transaction\n",
    "\n",
    "t = Transaction(cid=4050)\n",
    "print(t.replica)\n",
    "\n",
    "scan = t.scan(think_time=0)\n",
    "print(scan)\n",
    "\n",
    "t.write(\"teste\", 1)\n",
    "t.commit()\n",
    "\n",
    "scan = t.scan(think_time=0)\n",
    "print(scan)\n",
    "print(f\"TX1: {t.result}\")\n"
   ]
  },
  {
   "cell_type": "code",
   "execution_count": 18,
   "metadata": {},
   "outputs": [
    {
     "name": "stdout",
     "output_type": "stream",
     "text": [
      "('localhost', 4002)\n",
      "[Cliente 4050] Efetuando leitura na chave x\n",
      "[Cliente 4050] Valor não encontrado localmente, requisitando valor ao banco\n",
      "[Unicast.request] Enviando para localhost:4002 a mensagem {'type': 'READ', 'key': 'x', 'cid': 4050}\n",
      "('x', 20, 1)\n",
      "[Cliente 4050] Efetuando SCAN no datastore\n",
      "[Unicast.request] Enviando para localhost:4002 a mensagem {'type': 'SCAN', 'cid': 4050}\n",
      "{'gui': (123, 1), 'x': (20, 1), 'y': (30, 1), 'z': (50, 1), 'teste': (1, 6)}\n",
      "[Cliente 4050] Efetuando escrita na chave 'teste' com valor '1'\n",
      "[Cliente 4050] Commitando transação 7a62d956-b72d-4747-9283-3533e42af707\n",
      "[ABCAST] Enviando para localhost:4000 a mensagem {'type': 'COMMIT_REQ', 'cid': 4050, 'tid': '7a62d956-b72d-4747-9283-3533e42af707', 'rs': [('x', 20, 1)], 'ws': [('teste', 1)]}\n",
      "[Cliente 4050] Transação já finalizou com resultado: {'tid': 'f1c33f7c-8cc7-4b8d-9ccf-7a9b1f644fd5', 'status': 'COMMITED'}\n",
      "('7a62d956-b72d-4747-9283-3533e42af707', {'tid': 'f1c33f7c-8cc7-4b8d-9ccf-7a9b1f644fd5', 'status': 'COMMITED'})\n",
      "TX1: {'tid': 'f1c33f7c-8cc7-4b8d-9ccf-7a9b1f644fd5', 'status': 'COMMITED'}\n"
     ]
    }
   ],
   "source": [
    "from utils.transaction import Transaction\n",
    "\n",
    "t = Transaction(cid=4050)\n",
    "print(t.replica)\n",
    "\n",
    "x = t.read(\"x\", think_time=0)\n",
    "print(x)\n",
    "\n",
    "scan = t.scan(think_time=0)\n",
    "print(scan)\n",
    "\n",
    "t.write(\"teste\", 1)\n",
    "t.commit()\n",
    "\n",
    "scan = t.scan(think_time=0)\n",
    "print(scan)\n",
    "print(f\"TX1: {t.result}\")\n"
   ]
  },
  {
   "cell_type": "code",
   "execution_count": 28,
   "metadata": {},
   "outputs": [],
   "source": [
    "from utils.unicast import request\n",
    "\n",
    "def scan_replica(replica):\n",
    "    response = request(*replica, {'type': \"SCAN\", 'cid': 4610})\n",
    "    response = {k: tuple(v) for k, v in response.items()} # JSON não suporta tuplas, dessa forma é necessário normalizar\n",
    "    return response"
   ]
  },
  {
   "cell_type": "code",
   "execution_count": 33,
   "metadata": {},
   "outputs": [
    {
     "name": "stdout",
     "output_type": "stream",
     "text": [
      "('localhost', 4001, 5001)\n",
      "[Unicast.request] Enviando para localhost:4001 a mensagem {'type': 'SCAN', 'cid': 4610}\n",
      "{'gui': (123, 1), 'x': (100, 67), 'y': (30, 1), 'z': (50, 1)}\n",
      "('localhost', 4001, 5001)\n",
      "[Unicast.request] Enviando para localhost:4002 a mensagem {'type': 'SCAN', 'cid': 4610}\n",
      "{'gui': (123, 1), 'x': (100, 67), 'y': (30, 1), 'z': (50, 1)}\n",
      "('localhost', 4001, 5001)\n",
      "[Unicast.request] Enviando para localhost:4003 a mensagem {'type': 'SCAN', 'cid': 4610}\n",
      "{'gui': (123, 1), 'x': (100, 67), 'y': (30, 1), 'z': (50, 1)}\n"
     ]
    }
   ],
   "source": [
    "from utils import load_replicas\n",
    "\n",
    "for host, read_port, _ in load_replicas():\n",
    "    print(replica)\n",
    "    result = scan_replica((host, read_port))\n",
    "    print(result)"
   ]
  },
  {
   "cell_type": "code",
   "execution_count": 5,
   "metadata": {},
   "outputs": [],
   "source": [
    "from utils import load_replicas, get_sequencer"
   ]
  },
  {
   "cell_type": "code",
   "execution_count": 6,
   "metadata": {},
   "outputs": [
    {
     "data": {
      "text/plain": [
       "[('localhost', '4001', '5001'),\n",
       " ('localhost', '4002', '5002'),\n",
       " ('localhost', '4003', '5003')]"
      ]
     },
     "execution_count": 6,
     "metadata": {},
     "output_type": "execute_result"
    }
   ],
   "source": [
    "load_replicas()"
   ]
  },
  {
   "cell_type": "code",
   "execution_count": 4,
   "metadata": {},
   "outputs": [
    {
     "data": {
      "text/plain": [
       "('localhost', '4000')"
      ]
     },
     "execution_count": 4,
     "metadata": {},
     "output_type": "execute_result"
    }
   ],
   "source": [
    "get_sequencer()"
   ]
  },
  {
   "cell_type": "code",
   "execution_count": 7,
   "metadata": {},
   "outputs": [
    {
     "data": {
      "text/plain": [
       "['DEFAULT', 'sequencer', 'replica_1', 'replica_2', 'replica_3', 'replica_4']"
      ]
     },
     "execution_count": 7,
     "metadata": {},
     "output_type": "execute_result"
    }
   ],
   "source": [
    "list(config)"
   ]
  },
  {
   "cell_type": "code",
   "execution_count": 8,
   "metadata": {},
   "outputs": [
    {
     "data": {
      "text/plain": [
       "<Section: DEFAULT>"
      ]
     },
     "execution_count": 8,
     "metadata": {},
     "output_type": "execute_result"
    }
   ],
   "source": [
    "config['DEFAULT']"
   ]
  },
  {
   "cell_type": "code",
   "execution_count": 9,
   "metadata": {},
   "outputs": [
    {
     "data": {
      "text/plain": [
       "['sequencer', 'replica_1', 'replica_2', 'replica_3', 'replica_4']"
      ]
     },
     "execution_count": 9,
     "metadata": {},
     "output_type": "execute_result"
    }
   ],
   "source": [
    "config.sections()"
   ]
  },
  {
   "cell_type": "code",
   "execution_count": 16,
   "metadata": {},
   "outputs": [
    {
     "ename": "SyntaxError",
     "evalue": "invalid syntax (1697189590.py, line 1)",
     "output_type": "error",
     "traceback": [
      "\u001b[1;36m  Cell \u001b[1;32mIn[16], line 1\u001b[1;36m\u001b[0m\n\u001b[1;33m    for section in config.sections() if section != 'sequencer':\u001b[0m\n\u001b[1;37m                                                              ^\u001b[0m\n\u001b[1;31mSyntaxError\u001b[0m\u001b[1;31m:\u001b[0m invalid syntax\n"
     ]
    }
   ],
   "source": [
    "for section in config.sections() if section != 'sequencer':\n",
    "    print(section)"
   ]
  },
  {
   "cell_type": "code",
   "execution_count": 15,
   "metadata": {},
   "outputs": [
    {
     "name": "stdout",
     "output_type": "stream",
     "text": [
      "4000\n",
      "4001\n",
      "4002\n",
      "4003\n",
      "4004\n"
     ]
    }
   ],
   "source": [
    "for section in config.sections():\n",
    "    print(config[section]['port'])"
   ]
  },
  {
   "cell_type": "code",
   "execution_count": null,
   "metadata": {},
   "outputs": [],
   "source": [
    "# Acessa valores\n",
    "host = config['database']['host']\n",
    "port = int(config['database']['port'])\n",
    "debug = config.getboolean('app', 'debug')\n",
    "\n",
    "print(f\"Conectando ao banco em {host}:{port}\")\n",
    "print(f\"Modo debug: {debug}\")"
   ]
  }
 ],
 "metadata": {
  "kernelspec": {
   "display_name": "Python 3",
   "language": "python",
   "name": "python3"
  },
  "language_info": {
   "codemirror_mode": {
    "name": "ipython",
    "version": 3
   },
   "file_extension": ".py",
   "mimetype": "text/x-python",
   "name": "python",
   "nbconvert_exporter": "python",
   "pygments_lexer": "ipython3",
   "version": "3.12.3"
  }
 },
 "nbformat": 4,
 "nbformat_minor": 2
}
