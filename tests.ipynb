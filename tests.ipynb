{
 "cells": [
  {
   "cell_type": "code",
   "execution_count": 1,
   "metadata": {},
   "outputs": [
    {
     "data": {
      "text/plain": [
       "['replicas.conf']"
      ]
     },
     "execution_count": 1,
     "metadata": {},
     "output_type": "execute_result"
    }
   ],
   "source": [
    "import configparser\n",
    "\n",
    "# Cria o parser e lê o arquivo\n",
    "config = configparser.ConfigParser()\n",
    "config.read('replicas.conf')"
   ]
  },
  {
   "cell_type": "code",
   "execution_count": 4,
   "metadata": {},
   "outputs": [
    {
     "name": "stdout",
     "output_type": "stream",
     "text": [
      "('localhost', 4001)\n",
      "[Cliente 4050] Efetuando SCAN no datastore\n",
      "[Unicast.request] Enviando para localhost:4001 a mensagem {'type': 'SCAN', 'cid': 4050}\n",
      "{'gui': (123, 0), 'x': (100, 1), 'y': (30, 0), 'z': (50, 0)}\n",
      "[Cliente 4050] Efetuando escrita na chave 'teste' com valor '1'\n",
      "[Cliente 4050] Commitando transação 882f6960-3ad8-4a03-a4f4-65a20bffb47d\n",
      "[Unicast.request] Enviando para localhost:4000 a mensagem {'type': 'COMMIT_REQ', 'cid': 4050, 'tid': '882f6960-3ad8-4a03-a4f4-65a20bffb47d', 'rs': [], 'ws': [('teste', 1)]}\n",
      "[Unicast.receive] Mensagem recebida: {'tid': '882f6960-3ad8-4a03-a4f4-65a20bffb47d', 'status': 'COMMITED'}\n",
      "[Cliente 4050] Efetuando SCAN no datastore\n",
      "[Unicast.request] Enviando para localhost:4001 a mensagem {'type': 'SCAN', 'cid': 4050}\n",
      "{'gui': (123, 0), 'x': (100, 1), 'y': (30, 0), 'z': (50, 0), 'teste': (1, 1)}\n",
      "TX1: {'tid': '882f6960-3ad8-4a03-a4f4-65a20bffb47d', 'status': 'COMMITED'}\n"
     ]
    }
   ],
   "source": [
    "from utils.transaction import Transaction\n",
    "\n",
    "t = Transaction(cid=4050)\n",
    "print(t.replica)\n",
    "\n",
    "scan = t.scan(think_time=0)\n",
    "print(scan)\n",
    "\n",
    "t.write(\"teste\", 1)\n",
    "t.commit()\n",
    "\n",
    "scan = t.scan(think_time=0)\n",
    "print(scan)\n",
    "print(f\"TX1: {t.result}\")\n"
   ]
  },
  {
   "cell_type": "code",
   "execution_count": 5,
   "metadata": {},
   "outputs": [
    {
     "name": "stdout",
     "output_type": "stream",
     "text": [
      "('localhost', 4003)\n",
      "[Cliente 4050] Efetuando leitura na chave x\n",
      "[Cliente 4050] Valor não encontrado localmente, requisitando valor ao banco\n",
      "[Unicast.request] Enviando para localhost:4003 a mensagem {'type': 'READ', 'key': 'x', 'cid': 4050}\n",
      "('x', 20, 1)\n",
      "[Cliente 4050] Efetuando SCAN no datastore\n",
      "[Unicast.request] Enviando para localhost:4003 a mensagem {'type': 'SCAN', 'cid': 4050}\n",
      "{'gui': (123, 1), 'x': (20, 1), 'y': (30, 1), 'z': (50, 1), 'teste': (1, 5)}\n",
      "[Cliente 4050] Efetuando escrita na chave 'teste' com valor '1'\n",
      "[Cliente 4050] Commitando transação 87db29b5-3134-411a-983c-0b0a0bedaca8\n",
      "[ABCAST] Enviando para localhost:4000 a mensagem {'type': 'COMMIT_REQ', 'cid': 4050, 'tid': '87db29b5-3134-411a-983c-0b0a0bedaca8', 'rs': [('x', 20, 1)], 'ws': [('teste', 1)]}\n",
      "[Cliente 4050] Transação já finalizou com resultado: {'tid': '87db29b5-3134-411a-983c-0b0a0bedaca8', 'status': 'COMMITED'}\n",
      "('87db29b5-3134-411a-983c-0b0a0bedaca8', {'tid': '87db29b5-3134-411a-983c-0b0a0bedaca8', 'status': 'COMMITED'})\n",
      "TX1: {'tid': '87db29b5-3134-411a-983c-0b0a0bedaca8', 'status': 'COMMITED'}\n"
     ]
    }
   ],
   "source": [
    "from utils.transaction import Transaction\n",
    "\n",
    "t = Transaction(cid=4050)\n",
    "print(t.replica)\n",
    "\n",
    "x = t.read(\"x\", think_time=0)\n",
    "print(x)\n",
    "\n",
    "scan = t.scan(think_time=0)\n",
    "print(scan)\n",
    "\n",
    "t.write(\"teste\", 1)\n",
    "t.commit()\n",
    "\n",
    "scan = t.scan(think_time=0)\n",
    "print(scan)\n",
    "print(f\"TX1: {t.result}\")\n"
   ]
  },
  {
   "cell_type": "code",
   "execution_count": 16,
   "metadata": {},
   "outputs": [],
   "source": [
    "from utils.unicast import request\n",
    "\n",
    "def scan_replica(replica):\n",
    "    \n",
    "    print(f\"Efetuando SCAN no datastore\")\n",
    "    response = request(*replica, {'type': \"SCAN\", 'cid': self.cid})\n",
    "    response = {k: tuple(v) for k, v in response.items()} # JSON não suporta tuplas, dessa forma é necessário normalizar\n",
    "    return response"
   ]
  },
  {
   "cell_type": "code",
   "execution_count": 17,
   "metadata": {},
   "outputs": [
    {
     "name": "stdout",
     "output_type": "stream",
     "text": [
      "Efetuando SCAN no datastore\n"
     ]
    },
    {
     "ename": "AttributeError",
     "evalue": "'tuple' object has no attribute 'replica'",
     "output_type": "error",
     "traceback": [
      "\u001b[1;31m---------------------------------------------------------------------------\u001b[0m",
      "\u001b[1;31mAttributeError\u001b[0m                            Traceback (most recent call last)",
      "Cell \u001b[1;32mIn[17], line 1\u001b[0m\n\u001b[1;32m----> 1\u001b[0m \u001b[43mscan\u001b[49m\u001b[43m(\u001b[49m\u001b[43m(\u001b[49m\u001b[38;5;124;43m'\u001b[39;49m\u001b[38;5;124;43mlocalhost\u001b[39;49m\u001b[38;5;124;43m'\u001b[39;49m\u001b[43m,\u001b[49m\u001b[43m \u001b[49m\u001b[38;5;241;43m4001\u001b[39;49m\u001b[43m)\u001b[49m\u001b[43m)\u001b[49m\n",
      "Cell \u001b[1;32mIn[6], line 3\u001b[0m, in \u001b[0;36mscan\u001b[1;34m(self, think_time)\u001b[0m\n\u001b[0;32m      1\u001b[0m \u001b[38;5;28;01mdef\u001b[39;00m \u001b[38;5;21mscan\u001b[39m(\u001b[38;5;28mself\u001b[39m, think_time\u001b[38;5;241m=\u001b[39m\u001b[38;5;241m0\u001b[39m):\n\u001b[0;32m      2\u001b[0m     \u001b[38;5;28mprint\u001b[39m(\u001b[38;5;124mf\u001b[39m\u001b[38;5;124m\"\u001b[39m\u001b[38;5;124mEfetuando SCAN no datastore\u001b[39m\u001b[38;5;124m\"\u001b[39m)\n\u001b[1;32m----> 3\u001b[0m     response \u001b[38;5;241m=\u001b[39m request(\u001b[38;5;241m*\u001b[39m\u001b[38;5;28;43mself\u001b[39;49m\u001b[38;5;241;43m.\u001b[39;49m\u001b[43mreplica\u001b[49m, {\u001b[38;5;124m'\u001b[39m\u001b[38;5;124mtype\u001b[39m\u001b[38;5;124m'\u001b[39m: \u001b[38;5;124m\"\u001b[39m\u001b[38;5;124mSCAN\u001b[39m\u001b[38;5;124m\"\u001b[39m, \u001b[38;5;124m'\u001b[39m\u001b[38;5;124mcid\u001b[39m\u001b[38;5;124m'\u001b[39m: \u001b[38;5;28mself\u001b[39m\u001b[38;5;241m.\u001b[39mcid})\n\u001b[0;32m      4\u001b[0m     response \u001b[38;5;241m=\u001b[39m {k: \u001b[38;5;28mtuple\u001b[39m(v) \u001b[38;5;28;01mfor\u001b[39;00m k, v \u001b[38;5;129;01min\u001b[39;00m response\u001b[38;5;241m.\u001b[39mitems()} \u001b[38;5;66;03m# JSON não suporta tuplas, dessa forma é necessário normalizar\u001b[39;00m\n\u001b[0;32m      5\u001b[0m     \u001b[38;5;28;01mreturn\u001b[39;00m response\n",
      "\u001b[1;31mAttributeError\u001b[0m: 'tuple' object has no attribute 'replica'"
     ]
    }
   ],
   "source": [
    "scan(('localhost', 4001))"
   ]
  },
  {
   "cell_type": "code",
   "execution_count": 5,
   "metadata": {},
   "outputs": [],
   "source": [
    "from utils import load_replicas, get_sequencer"
   ]
  },
  {
   "cell_type": "code",
   "execution_count": 6,
   "metadata": {},
   "outputs": [
    {
     "data": {
      "text/plain": [
       "[('localhost', '4001', '5001'),\n",
       " ('localhost', '4002', '5002'),\n",
       " ('localhost', '4003', '5003')]"
      ]
     },
     "execution_count": 6,
     "metadata": {},
     "output_type": "execute_result"
    }
   ],
   "source": [
    "load_replicas()"
   ]
  },
  {
   "cell_type": "code",
   "execution_count": 4,
   "metadata": {},
   "outputs": [
    {
     "data": {
      "text/plain": [
       "('localhost', '4000')"
      ]
     },
     "execution_count": 4,
     "metadata": {},
     "output_type": "execute_result"
    }
   ],
   "source": [
    "get_sequencer()"
   ]
  },
  {
   "cell_type": "code",
   "execution_count": 7,
   "metadata": {},
   "outputs": [
    {
     "data": {
      "text/plain": [
       "['DEFAULT', 'sequencer', 'replica_1', 'replica_2', 'replica_3', 'replica_4']"
      ]
     },
     "execution_count": 7,
     "metadata": {},
     "output_type": "execute_result"
    }
   ],
   "source": [
    "list(config)"
   ]
  },
  {
   "cell_type": "code",
   "execution_count": 8,
   "metadata": {},
   "outputs": [
    {
     "data": {
      "text/plain": [
       "<Section: DEFAULT>"
      ]
     },
     "execution_count": 8,
     "metadata": {},
     "output_type": "execute_result"
    }
   ],
   "source": [
    "config['DEFAULT']"
   ]
  },
  {
   "cell_type": "code",
   "execution_count": 9,
   "metadata": {},
   "outputs": [
    {
     "data": {
      "text/plain": [
       "['sequencer', 'replica_1', 'replica_2', 'replica_3', 'replica_4']"
      ]
     },
     "execution_count": 9,
     "metadata": {},
     "output_type": "execute_result"
    }
   ],
   "source": [
    "config.sections()"
   ]
  },
  {
   "cell_type": "code",
   "execution_count": 16,
   "metadata": {},
   "outputs": [
    {
     "ename": "SyntaxError",
     "evalue": "invalid syntax (1697189590.py, line 1)",
     "output_type": "error",
     "traceback": [
      "\u001b[1;36m  Cell \u001b[1;32mIn[16], line 1\u001b[1;36m\u001b[0m\n\u001b[1;33m    for section in config.sections() if section != 'sequencer':\u001b[0m\n\u001b[1;37m                                                              ^\u001b[0m\n\u001b[1;31mSyntaxError\u001b[0m\u001b[1;31m:\u001b[0m invalid syntax\n"
     ]
    }
   ],
   "source": [
    "for section in config.sections() if section != 'sequencer':\n",
    "    print(section)"
   ]
  },
  {
   "cell_type": "code",
   "execution_count": 15,
   "metadata": {},
   "outputs": [
    {
     "name": "stdout",
     "output_type": "stream",
     "text": [
      "4000\n",
      "4001\n",
      "4002\n",
      "4003\n",
      "4004\n"
     ]
    }
   ],
   "source": [
    "for section in config.sections():\n",
    "    print(config[section]['port'])"
   ]
  },
  {
   "cell_type": "code",
   "execution_count": null,
   "metadata": {},
   "outputs": [],
   "source": [
    "# Acessa valores\n",
    "host = config['database']['host']\n",
    "port = int(config['database']['port'])\n",
    "debug = config.getboolean('app', 'debug')\n",
    "\n",
    "print(f\"Conectando ao banco em {host}:{port}\")\n",
    "print(f\"Modo debug: {debug}\")"
   ]
  }
 ],
 "metadata": {
  "kernelspec": {
   "display_name": "Python 3",
   "language": "python",
   "name": "python3"
  },
  "language_info": {
   "codemirror_mode": {
    "name": "ipython",
    "version": 3
   },
   "file_extension": ".py",
   "mimetype": "text/x-python",
   "name": "python",
   "nbconvert_exporter": "python",
   "pygments_lexer": "ipython3",
   "version": "3.12.3"
  }
 },
 "nbformat": 4,
 "nbformat_minor": 2
}
